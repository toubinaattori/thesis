using Pkg
Pkg.add(url="https://github.com/toubinaattori/thesis")
using DecisionProgramming
using JuMP
using GLPK

h = rand(10)
h2 = rand(10)
h3 = rand(10)
for xibiz in 1:10
    diagram = InfluenceDiagram()
    diagram.Cost = []

    N = 2
    M = 2
    c_k = rand(N)
    fortification(k, a) = [c_k[k], 0][a]
    b = 0.03

    add_node!(diagram, ChanceNode("L", [], ["high", "low"]))

    for i in 1:N
        add_node!(diagram, ChanceNode("R$i", ["L"], ["high", "low"]))
    end

    for i in 1:M
        add_node!(diagram, DecisionNode("A$i",map(x -> "R$x", 1:N), ["yes", "no"],map(x -> "R$x", 1:N)))
    end

    add_node!(diagram, ChanceNode("F", ["L", ["A$i" for i in 1:M]...], ["failure", "success"]))

    add_node!(diagram, ValueNode("T", ["F", ["A$i" for i in 1:M]...]))

    for i in 1:N
        for j in 1:M
            add_costs!(diagram,Costs(("R$i","A$j"), 0))
        end
    end

    generate_arcs!(diagram)

    X_L = [rand(), 0]
    X_L[2] = 1.0 - X_L[1]
    add_probabilities!(diagram, "L", X_L)

    for i in 1:N
        x_R, y_R = rand(2)
        X_R = ProbabilityMatrix(diagram, "R$i")
        X_R["high", "high"] = max(x_R, 1-x_R)
        X_R["high", "low"] = 1 - max(x_R, 1-x_R)
        X_R["low", "low"] = max(y_R, 1-y_R)
        X_R["low", "high"] = 1-max(y_R, 1-y_R)
        add_probabilities!(diagram, "R$i", X_R)
    end


    X_F = ProbabilityMatrix(diagram, "F")
    x_F, y_F = rand(2)
    for s in paths([State(2) for i in 1:M])
        denominator = exp(b * sum(fortification(k, a) for (k, a) in enumerate(s)))
        s1 = [s...]
        X_F[1, s1..., 1] = max(x_F, 1-x_F) / denominator
        X_F[1, s..., 2] = 1.0 - X_F[1, s..., 1]
        X_F[2, s..., 1] = min(y_F, 1-y_F) / denominator
        X_F[2, s..., 2] = 1.0 - X_F[2, s..., 1]
    end
    add_probabilities!(diagram, "F", X_F)



    Y_T = UtilityMatrix(diagram, "T")
    for s in paths([State(2) for i in 1:M])
        cost = sum(-fortification(k, a) for (k, a) in enumerate(s))
        Y_T[1, s...] = 0 + cost
        Y_T[2, s...] = 100 + cost
    end
    add_utilities!(diagram, "T", Y_T)

    generate_diagram!(diagram)
    
        model1 = Model()
    z = DecisionVariables(model1, diagram)
    x_s = PathCompatibilityVariables(model1, diagram, z, names=true, name = "s")
    x_x = InformationConstraintVariables(model1,diagram,z,x_s,names=true,name="x")
    EV = expected_value(model1, diagram, x_s,x_x)
    @objective(model1, Max, EV)


    using GLPK
    set_optimizer(model1, GLPK.Optimizer)
    optimize!(model1)
    
    # decision path variables
    
    model2 = Model()
    z = DecisionVariables(model2, diagram)
    x_s = PathCompatibilityVariables(model2, diagram, z, names=true, name = "s")
    x_x = ActiveDecisionPathVariables(model2,diagram,z,x_s,names=true,name="x")
    EV = expected_value(model2, diagram, x_s,x_x)
    @objective(model2, Max, EV)


    using GLPK
    set_optimizer(model2, GLPK.Optimizer)
    optimize!(model2)
    
    
    
    #extended state space variables
    
    diagram.Augmented_space = true
    model3 = Model()
    x_x = InformationStructureVariables(model3,diagram)
    z = DecisionVariablesAugmented(model3, diagram, x_x)
    x_s = PathCompatibilityVariables(model3, diagram, z, names=true, name = "s")
    x_x = AugmentedStateVariables(model3,diagram,z,x_s,x_x,names=true,name="x")
    EV = expected_value(model3, diagram, x_s,x_x)
    @objective(model3, Max, EV)


    using GLPK
    set_optimizer(model3, GLPK.Optimizer)
    optimize!(model3)
    h[xibiz] = solve_time(model1)
    h2[xibiz] = solve_time(model2)
    h3[xibiz] = solve_time(model3)
    
    
    
end
println(sum(h)/10)
println(sum(h2)/10)
println(sum(h3)/10)
