using Pkg
Pkg.add(url="https://github.com/toubinaattori/thesis")
using DecisionProgramming
using JuMP, Distributions
N = 2
    diagram = InfluenceDiagram()
    
    
    
    diagram.Cost = []

    add_node!(diagram, ChanceNode("O", [], [ "yes", "no"]))

    for i in 1:N
        add_node!(diagram, ChanceNode("R$i", ["O"], ["yes", "no"]))
    end

    add_node!(diagram, DecisionNode("D1", map(x -> "R$x", 1:N), ["yes", "no","another"],map(x -> "R$x", 1:N)))
    add_node!(diagram, DecisionNode("D2", ["D1",map(x -> "R$x", 1:N)...], ["yes","no"],map(x -> "R$x", 1:N)))

    add_node!(diagram, ValueNode("V", ["O","D1","D2"]))

    add_costs!(diagram,Costs(("R1","D1"), 0))
    add_costs!(diagram,Costs(("R2","D1"), 0))

    add_costs!(diagram,Costs(("R1","D2"), 25))
    add_costs!(diagram,Costs(("R2","D2"), 25))


    generate_arcs!(diagram)

    add_probabilities!(diagram, "O", [0.01,0.99])
    X_R = ProbabilityMatrix(diagram, "R1")
    X_R["yes","yes"] = 0.5
    X_R["no","yes"] =  0.07
    X_R["no","no"] = 0.93
    X_R["yes","no"] = 0.5
    add_probabilities!(diagram, "R1", X_R)

    X_R = ProbabilityMatrix(diagram, "R2")
    X_R["yes","yes"] = 0.93
    X_R["no","yes"] =  0.5
    X_R["no","no"] = 0.5
    X_R["yes","no"] = 0.07
    add_probabilities!(diagram, "R2", X_R)

  

    Y_V = UtilityMatrix(diagram, "V")
    Y_V["yes", "yes",:] = [201100,0]
    Y_V["yes", "no",:] = [0,1100]
    Y_V["yes", "another",:] = [201000,1000]

    Y_V["no", "yes",:] = [100,0]
    Y_V["no", "no",:] = [0,0]
    Y_V["no", "another",:] = [0,1000]
    add_utilities!(diagram, "V", Y_V)

    generate_diagram!(diagram)

    model = Model()
    z = DecisionVariables(model, diagram)
    x_s = PathCompatibilityVariables(model, diagram, z, names=true, name = "s")
    x_x = InformationConstraintVariables(model,diagram,z,x_s,names=true,name="x")
    EV = expected_value(model, diagram, x_s,x_x)
    
    @constraint(model,x_x[(2,4)] <= x_x[(2,5)])
    @constraint(model,x_x[(3,4)] <= x_x[(3,5)])
    @constraint(model,x_x[(2,4)] + x_x[(3,4)] <= 1)
    for (d, z_d) in zip(z.D, z.z)
        if d == 5
            @constraint(model,z_d[2] == 0)
            @constraint(model,z_d[5] == 0)
            @constraint(model,z_d[8] == 0)
            @constraint(model,z_d[11] == 0)
            @constraint(model,z_d[13] == 0)
            @constraint(model,z_d[16] == 0)
            @constraint(model,z_d[19] == 0)
            @constraint(model,z_d[22] == 0)
        end
    end
    

    @objective(model, Max, EV)

    using GLPK
    set_optimizer(model, GLPK.Optimizer)
    optimize!(model)
    Z = DecisionStrategy(z)
U_distribution = UtilityDistribution(diagram, Z,x_x)
S_probabilities = StateProbabilities(diagram, Z)
print_decision_strategy(diagram, Z, S_probabilities)
print_utility_distribution(U_distribution)
print_statistics(U_distribution)
println(solve_time(model))
for i in x_x
    println(i[1])
    println(value.(i[2]))
end
